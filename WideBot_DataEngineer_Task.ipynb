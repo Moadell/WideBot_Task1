{
  "nbformat": 4,
  "nbformat_minor": 0,
  "metadata": {
    "colab": {
      "name": "WideBot_DataEngineer_Task.ipynb",
      "provenance": [],
      "collapsed_sections": [],
      "authorship_tag": "ABX9TyPDXaRo+owZ+YCLn+vpHKJm"
    },
    "kernelspec": {
      "name": "python3",
      "display_name": "Python 3"
    }
  },
  "cells": [
    {
      "cell_type": "markdown",
      "metadata": {
        "id": "9TdSKMdvLP-U",
        "colab_type": "text"
      },
      "source": [
        "**Task 1**\n",
        "\n",
        "\n",
        "---\n",
        "This is the first task for widebot data Engineer internship\n"
      ]
    },
    {
      "cell_type": "markdown",
      "metadata": {
        "id": "AScOJbXrTUf6",
        "colab_type": "text"
      },
      "source": [
        "Importing libraries"
      ]
    },
    {
      "cell_type": "code",
      "metadata": {
        "id": "nBPx9KLNLIwa",
        "colab_type": "code",
        "colab": {}
      },
      "source": [
        "from bs4 import BeautifulSoup\n",
        "import urllib\n",
        "import time\n",
        "import sys\n",
        "import requests"
      ],
      "execution_count": 42,
      "outputs": []
    },
    {
      "cell_type": "markdown",
      "metadata": {
        "id": "ZdWxOY2DTm3w",
        "colab_type": "text"
      },
      "source": [
        "Initializing URLs"
      ]
    },
    {
      "cell_type": "code",
      "metadata": {
        "id": "2SCEfkkhT38P",
        "colab_type": "code",
        "colab": {}
      },
      "source": [
        "# start\n",
        "start_url = \"https://en.wikipedia.org/wiki/Special:Random\"\n",
        "# target\n",
        "target_url = \"https://en.wikipedia.org/wiki/Philosophy\"\n",
        "# store the visited article \n",
        "visited_urls = [start_url]"
      ],
      "execution_count": 43,
      "outputs": []
    },
    {
      "cell_type": "markdown",
      "metadata": {
        "id": "6ZkMziJ6T8pP",
        "colab_type": "text"
      },
      "source": [
        "Searching Context for the first URL. \"BeautifulSoup in action\"\n"
      ]
    },
    {
      "cell_type": "code",
      "metadata": {
        "id": "Cobl5ixuULVv",
        "colab_type": "code",
        "colab": {}
      },
      "source": [
        "def find_first_link(url):\n",
        "    response = requests.get(url)\n",
        "    html = response.text\n",
        "    soup = BeautifulSoup(html, \"html.parser\")\n",
        "\n",
        "    # This div stars with the body of the article\n",
        "    content_div = soup.find(id=\"mw-content-text\").find(class_=\"mw-parser-output\")\n",
        "\n",
        "    # if the link contains no links it remains None\n",
        "    article_link = None\n",
        "\n",
        "    # Find all the direct children of content_div that are paragraphs\n",
        "    for element in content_div.find_all(\"p\", recursive=False):\n",
        "        #find only the direct children\n",
        "        if element.find(\"a\", recursive=False):\n",
        "            article_link = element.find(\"a\", recursive=False).get('href')\n",
        "            break\n",
        "\n",
        "    if not article_link:\n",
        "        return\n",
        "\n",
        "    # Build a full url \n",
        "    first_link = urllib.parse.urljoin(\n",
        "        'https://en.wikipedia.org/', article_link)\n",
        "\n",
        "    return first_link"
      ],
      "execution_count": 44,
      "outputs": []
    },
    {
      "cell_type": "markdown",
      "metadata": {
        "id": "JWGctyVvUhRf",
        "colab_type": "text"
      },
      "source": [
        "Checking the histoy if we reached or stacked in a loop"
      ]
    },
    {
      "cell_type": "code",
      "metadata": {
        "id": "3FP4kjvbU66M",
        "colab_type": "code",
        "colab": {}
      },
      "source": [
        "def continue_scraping(scraping_history, target_url, max_steps=30):\n",
        "    # When reaches to philosphy\n",
        "    if scraping_history[-1] == target_url:\n",
        "        print(\"Target ('Philosphy') article reached!\")\n",
        "        return False\n",
        "    # max iterations \n",
        "    elif len(scraping_history) > max_steps:\n",
        "        print(\"Maximum (30) searches reached, interrupted.\")\n",
        "        return False\n",
        "    elif scraping_history[-1] in scraping_history[:-1]:\n",
        "        print(\"We are in a Loop , interrupted.\")\n",
        "        return False\n",
        "    else:\n",
        "        return True"
      ],
      "execution_count": 45,
      "outputs": []
    },
    {
      "cell_type": "markdown",
      "metadata": {
        "id": "dOsmDXZpVDMx",
        "colab_type": "text"
      },
      "source": [
        "Putting all together, start serching and printing history. Slowing down in server to avoid dealing with the script as attack."
      ]
    },
    {
      "cell_type": "code",
      "metadata": {
        "id": "qqUlgbM9VSvH",
        "colab_type": "code",
        "colab": {
          "base_uri": "https://localhost:8080/",
          "height": 153
        },
        "outputId": "783421b4-5fc2-4be8-ac80-c98d1002fbdf"
      },
      "source": [
        "while continue_scraping(visited_urls, target_url):\n",
        "    #print first link\n",
        "    print(visited_urls[-1])\n",
        "\n",
        "    first_link = find_first_link(visited_urls[-1])\n",
        "    # when arrive at an article with no links\n",
        "    if not first_link:\n",
        "        print(\"Arrived at an article with no links, search aborted.\")\n",
        "        break\n",
        "\n",
        "    visited_urls.append(first_link)\n",
        "\n",
        "    time.sleep(0.5)  # Slow things down so as to not overload Wikipedia's servers\n",
        "visited_urls=[start_url]"
      ],
      "execution_count": 46,
      "outputs": [
        {
          "output_type": "stream",
          "text": [
            "https://en.wikipedia.org/wiki/Special:Random\n",
            "https://en.wikipedia.org/wiki/Ice_hockey\n",
            "https://en.wikipedia.org/wiki/Contact_sport\n",
            "https://en.wikipedia.org/wiki/Sport\n",
            "https://en.wikipedia.org/wiki/Competition\n",
            "https://en.wikipedia.org/wiki/Goal\n",
            "https://en.wikipedia.org/wiki/Idea\n",
            "Target ('Philosphy') article reached!\n"
          ],
          "name": "stdout"
        }
      ]
    }
  ]
}